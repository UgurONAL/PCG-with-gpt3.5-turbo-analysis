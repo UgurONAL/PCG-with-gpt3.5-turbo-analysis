{
 "cells": [
  {
   "metadata": {},
   "cell_type": "markdown",
   "source": "Import related libraries",
   "id": "cf7bc5b5b89caa75"
  },
  {
   "metadata": {},
   "cell_type": "code",
   "source": [
    "import os.path\n",
    "\n",
    "import openai\n",
    "from src.utilities import *\n",
    "import random"
   ],
   "id": "5a95bd77bda58bde",
   "outputs": [],
   "execution_count": null
  },
  {
   "metadata": {},
   "cell_type": "markdown",
   "source": "You must add your own OpenAI API key to the `openai-api-key.txt` file.",
   "id": "24cc3d6e69b853f"
  },
  {
   "metadata": {},
   "cell_type": "code",
   "source": "api_key = get_file_contents(\"openai-api-key.txt\")",
   "id": "1d499ba89790ff45",
   "outputs": [],
   "execution_count": null
  },
  {
   "metadata": {},
   "cell_type": "markdown",
   "source": "Initialize the OpenAI API Client with the API key",
   "id": "f9dd27be191bafa"
  },
  {
   "metadata": {},
   "cell_type": "code",
   "source": "openai.api_key = api_key",
   "id": "f4ad8a45d0cc0de4",
   "outputs": [],
   "execution_count": null
  },
  {
   "metadata": {},
   "cell_type": "markdown",
   "source": "Set your training mode for the fine-tuning process, all files related to this mode will have the name of the mode in their names.",
   "id": "3f08dedf5e09d8bc"
  },
  {
   "metadata": {},
   "cell_type": "code",
   "source": "train_mode = \"100-input-10-epoch-0.5-temp-50-output\"",
   "id": "da27656657abf5eb",
   "outputs": [],
   "execution_count": null
  },
  {
   "metadata": {},
   "cell_type": "markdown",
   "source": "Get hyperparameters for the fine-tuning process",
   "id": "d2790e99853bec1"
  },
  {
   "metadata": {},
   "cell_type": "code",
   "source": "hypers = read_hypers()",
   "id": "1cc45c32a6f5f79f",
   "outputs": [],
   "execution_count": null
  },
  {
   "metadata": {},
   "cell_type": "markdown",
   "source": "Convert training data to JSONL format",
   "id": "efe9e08673ea5ff"
  },
  {
   "metadata": {},
   "cell_type": "code",
   "source": [
    "training_data_folder = f\"data/training_data/{hypers[train_mode][\"training_set\"]}\"\n",
    "training_data_path = f\"{training_data_folder}/training_data.jsonl\"\n",
    "create_jsonl_from_folder(training_data_folder, training_data_path)"
   ],
   "id": "7d56951715ee81ed",
   "outputs": [],
   "execution_count": null
  },
  {
   "metadata": {},
   "cell_type": "markdown",
   "source": "Upload the training file to the API for fine-tuning purposes",
   "id": "879e101777d489a2"
  },
  {
   "metadata": {},
   "cell_type": "code",
   "source": [
    "with open(training_data_path, \"r\") as file:\n",
    "    response = openai.File.create(file=file, purpose=\"fine-tune\")\n",
    "\n",
    "file_id = response[\"id\"]\n",
    "write_file_contents(f\"data/client_file_ids/{train_mode}.txt\", file_id)"
   ],
   "id": "initial_id",
   "outputs": [],
   "execution_count": null
  },
  {
   "metadata": {},
   "cell_type": "markdown",
   "source": "Set the base model to fine-tune. gpt-3.5-turbo-0125 is the currently recommended model.",
   "id": "42ccbbf0ec55905c"
  },
  {
   "metadata": {},
   "cell_type": "code",
   "source": "base_model = \"gpt-3.5-turbo-0125\"",
   "id": "9c6e0e76b914895e",
   "outputs": [],
   "execution_count": null
  },
  {
   "metadata": {},
   "cell_type": "markdown",
   "source": "Create a fine-tuning job for the model with the training file",
   "id": "546eeec4bb611878"
  },
  {
   "metadata": {},
   "cell_type": "code",
   "source": [
    "training_file_id = get_file_contents(f\"data/client_file_ids/{train_mode}.txt\")\n",
    "\n",
    "response = openai.FineTuningJob.create(\n",
    "    model=base_model,\n",
    "    training_file=training_file_id,\n",
    "    suffix=train_mode.replace(\"-input\", \"\").replace(\"-epoch\", \"\").replace(\"-temp\", \"\").replace(\"-output\", \"\"),\n",
    "    hyperparameters={\"n_epochs\": hypers[train_mode][\"n_epochs\"]}\n",
    ")\n",
    "\n",
    "fine_tuning_job_id = response[\"id\"]\n",
    "write_file_contents(f\"data/fine_tuning_job_ids/{train_mode}.txt\", fine_tuning_job_id)"
   ],
   "id": "b281b242884cbd3a",
   "outputs": [],
   "execution_count": null
  },
  {
   "metadata": {},
   "cell_type": "markdown",
   "source": "Generate levels using the fine-tuned model",
   "id": "b4a16dade82d9ba5"
  },
  {
   "metadata": {},
   "cell_type": "code",
   "source": [
    "fine_tuning_job_id = get_file_contents(f\"data/fine_tuning_job_ids/{train_mode}.txt\")\n",
    "fine_tuning_job = openai.FineTuningJob.retrieve(id=fine_tuning_job_id)\n",
    "\n",
    "fine_tuning_status = fine_tuning_job.status\n",
    "if fine_tuning_status == \"succeeded\":\n",
    "    fine_tuned_model = fine_tuning_job.fine_tuned_model\n",
    "    \n",
    "    for i in range(hypers[train_mode][\"n_generations\"]):\n",
    "        m = random.randint(7, 35)\n",
    "        n = random.randint(8, 35)\n",
    "        response = openai.ChatCompletion.create(\n",
    "            model=fine_tuned_model,\n",
    "            messages=get_messages_for_chat_completion(m, n),\n",
    "            temperature=hypers[train_mode][\"temperature\"],\n",
    "        )\n",
    "        generated_level = response.choices[0].message[\"content\"]\n",
    "        \n",
    "        generated_level_folder = f\"data/generated_levels/{train_mode}\"\n",
    "        if not os.path.exists(generated_level_folder):\n",
    "            os.makedirs(generated_level_folder)\n",
    "        write_file_contents(f\"{generated_level_folder}/level_{i}_{m}x{n}.txt\", generated_level)\n",
    "        print(f\"Generated level {i} with dimensions {m}x{n} for {train_mode}\")\n",
    "else:\n",
    "    print(f\"Fine-tuning job {fine_tuning_job_id} has not succeeded yet. Current status: {fine_tuning_status}\")"
   ],
   "id": "87c91c8fb3060792",
   "outputs": [],
   "execution_count": null
  },
  {
   "metadata": {},
   "cell_type": "code",
   "source": [
    "from src.utilities import *\n",
    "filename1 = \"data/generated_levels/200-input-3-epoch-0.5-temp-50-output/level_0_8x12.txt\"\n",
    "filename2 = \"data/training_data/training-set-200-examples/Sasquatch_level_1.txt\"\n",
    "intended_dimensions = tuple(filename1.split(\"_\")[-1].split(\".\")[0].split(\"x\"))\n",
    "print(check_level_validity(read_level_from_txt(filename2), (11, 11)))\n",
    "print(check_level_validity(read_level_from_txt(filename1), intended_dimensions))"
   ],
   "id": "6f83ad0949bc61aa",
   "outputs": [],
   "execution_count": null
  },
  {
   "metadata": {},
   "cell_type": "code",
   "source": "",
   "id": "3c372513498d660e",
   "outputs": [],
   "execution_count": null
  }
 ],
 "metadata": {
  "kernelspec": {
   "display_name": "Python 3",
   "language": "python",
   "name": "python3"
  },
  "language_info": {
   "codemirror_mode": {
    "name": "ipython",
    "version": 2
   },
   "file_extension": ".py",
   "mimetype": "text/x-python",
   "name": "python",
   "nbconvert_exporter": "python",
   "pygments_lexer": "ipython2",
   "version": "2.7.6"
  }
 },
 "nbformat": 4,
 "nbformat_minor": 5
}

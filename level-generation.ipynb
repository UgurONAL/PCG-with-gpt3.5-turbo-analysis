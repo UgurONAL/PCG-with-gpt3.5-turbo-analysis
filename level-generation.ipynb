{
 "cells": [
  {
   "metadata": {},
   "cell_type": "markdown",
   "source": "Import related libraries",
   "id": "cf7bc5b5b89caa75"
  },
  {
   "metadata": {
    "ExecuteTime": {
     "end_time": "2024-06-09T18:47:26.668271Z",
     "start_time": "2024-06-09T18:47:25.866477Z"
    }
   },
   "cell_type": "code",
   "source": [
    "import os.path\n",
    "\n",
    "import openai\n",
    "from src.utilities import *\n",
    "import random"
   ],
   "id": "5a95bd77bda58bde",
   "outputs": [],
   "execution_count": 2
  },
  {
   "metadata": {},
   "cell_type": "markdown",
   "source": "You must add your own OpenAI API key to the `openai-api-key.txt` file.",
   "id": "24cc3d6e69b853f"
  },
  {
   "metadata": {
    "ExecuteTime": {
     "end_time": "2024-06-09T18:28:37.564776Z",
     "start_time": "2024-06-09T18:28:37.552356Z"
    }
   },
   "cell_type": "code",
   "source": "api_key = get_file_contents(\"openai-api-key.txt\")",
   "id": "1d499ba89790ff45",
   "outputs": [],
   "execution_count": 6
  },
  {
   "metadata": {},
   "cell_type": "markdown",
   "source": "Initialize the OpenAI API Client with the API key",
   "id": "f9dd27be191bafa"
  },
  {
   "metadata": {
    "ExecuteTime": {
     "end_time": "2024-06-09T18:28:39.630358Z",
     "start_time": "2024-06-09T18:28:39.625903Z"
    }
   },
   "cell_type": "code",
   "source": "openai.api_key = api_key",
   "id": "f4ad8a45d0cc0de4",
   "outputs": [],
   "execution_count": 7
  },
  {
   "metadata": {},
   "cell_type": "markdown",
   "source": "Set your training mode for the fine-tuning process, all files related to this mode will have the name of the mode in their names.",
   "id": "3f08dedf5e09d8bc"
  },
  {
   "metadata": {
    "ExecuteTime": {
     "end_time": "2024-06-09T18:41:37.050445Z",
     "start_time": "2024-06-09T18:41:37.044290Z"
    }
   },
   "cell_type": "code",
   "source": "train_mode = \"100-input-10-epoch-0.5-temp-50-output\"",
   "id": "da27656657abf5eb",
   "outputs": [],
   "execution_count": 33
  },
  {
   "metadata": {},
   "cell_type": "markdown",
   "source": "Get hyperparameters for the fine-tuning process",
   "id": "d2790e99853bec1"
  },
  {
   "metadata": {
    "ExecuteTime": {
     "end_time": "2024-06-09T18:28:42.340854Z",
     "start_time": "2024-06-09T18:28:42.306737Z"
    }
   },
   "cell_type": "code",
   "source": "hypers = read_hypers()",
   "id": "1cc45c32a6f5f79f",
   "outputs": [],
   "execution_count": 9
  },
  {
   "metadata": {},
   "cell_type": "markdown",
   "source": "Convert training data to JSONL format",
   "id": "efe9e08673ea5ff"
  },
  {
   "metadata": {
    "ExecuteTime": {
     "end_time": "2024-06-09T18:41:38.844818Z",
     "start_time": "2024-06-09T18:41:38.808349Z"
    }
   },
   "cell_type": "code",
   "source": [
    "training_data_folder = f\"data/training_data/{hypers[train_mode][\"training_set\"]}\"\n",
    "training_data_path = f\"{training_data_folder}/training_data.jsonl\"\n",
    "create_jsonl_from_folder(training_data_folder, training_data_path)"
   ],
   "id": "7d56951715ee81ed",
   "outputs": [],
   "execution_count": 34
  },
  {
   "metadata": {},
   "cell_type": "markdown",
   "source": "Upload the training file to the API for fine-tuning purposes",
   "id": "879e101777d489a2"
  },
  {
   "metadata": {
    "ExecuteTime": {
     "end_time": "2024-06-09T18:41:43.704375Z",
     "start_time": "2024-06-09T18:41:42.697833Z"
    }
   },
   "cell_type": "code",
   "source": [
    "with open(training_data_path, \"r\") as file:\n",
    "    response = openai.File.create(file=file, purpose=\"fine-tune\")\n",
    "\n",
    "file_id = response[\"id\"]\n",
    "write_file_contents(f\"data/client_file_ids/{train_mode}.txt\", file_id)"
   ],
   "id": "initial_id",
   "outputs": [],
   "execution_count": 35
  },
  {
   "metadata": {},
   "cell_type": "markdown",
   "source": "Set the base model to fine-tune. gpt-3.5-turbo-0125 is the currently recommended model.",
   "id": "42ccbbf0ec55905c"
  },
  {
   "metadata": {
    "ExecuteTime": {
     "end_time": "2024-06-09T18:28:55.892833Z",
     "start_time": "2024-06-09T18:28:55.884524Z"
    }
   },
   "cell_type": "code",
   "source": "base_model = \"gpt-3.5-turbo-0125\"",
   "id": "9c6e0e76b914895e",
   "outputs": [],
   "execution_count": 12
  },
  {
   "metadata": {},
   "cell_type": "markdown",
   "source": "Create a fine-tuning job for the model with the training file",
   "id": "546eeec4bb611878"
  },
  {
   "metadata": {
    "ExecuteTime": {
     "end_time": "2024-06-09T18:41:47.238114Z",
     "start_time": "2024-06-09T18:41:45.557765Z"
    }
   },
   "cell_type": "code",
   "source": [
    "training_file_id = get_file_contents(f\"data/client_file_ids/{train_mode}.txt\")\n",
    "\n",
    "response = openai.FineTuningJob.create(\n",
    "    model=base_model,\n",
    "    training_file=training_file_id,\n",
    "    suffix=train_mode.replace(\"-input\", \"\").replace(\"-epoch\", \"\").replace(\"-temp\", \"\").replace(\"-output\", \"\"),\n",
    "    hyperparameters={\"n_epochs\": hypers[train_mode][\"n_epochs\"]}\n",
    ")\n",
    "\n",
    "fine_tuning_job_id = response[\"id\"]\n",
    "write_file_contents(f\"data/fine_tuning_job_ids/{train_mode}.txt\", fine_tuning_job_id)"
   ],
   "id": "b281b242884cbd3a",
   "outputs": [],
   "execution_count": 36
  },
  {
   "metadata": {},
   "cell_type": "markdown",
   "source": "Generate levels using the fine-tuned model",
   "id": "b4a16dade82d9ba5"
  },
  {
   "metadata": {
    "ExecuteTime": {
     "end_time": "2024-06-09T18:37:51.327952Z",
     "start_time": "2024-06-09T18:33:43.711643Z"
    }
   },
   "cell_type": "code",
   "source": [
    "fine_tuning_job_id = get_file_contents(f\"data/fine_tuning_job_ids/{train_mode}.txt\")\n",
    "fine_tuning_job = openai.FineTuningJob.retrieve(id=fine_tuning_job_id)\n",
    "\n",
    "fine_tuning_status = fine_tuning_job.status\n",
    "if fine_tuning_status == \"succeeded\":\n",
    "    fine_tuned_model = fine_tuning_job.fine_tuned_model\n",
    "    \n",
    "    for i in range(hypers[train_mode][\"n_generations\"]):\n",
    "        m = random.randint(7, 35)\n",
    "        n = random.randint(8, 35)\n",
    "        response = openai.ChatCompletion.create(\n",
    "            model=fine_tuned_model,\n",
    "            messages=get_messages_for_chat_completion(m, n),\n",
    "            temperature=hypers[train_mode][\"temperature\"],\n",
    "        )\n",
    "        generated_level = response.choices[0].message[\"content\"]\n",
    "        \n",
    "        generated_level_folder = f\"data/generated_levels/{train_mode}\"\n",
    "        if not os.path.exists(generated_level_folder):\n",
    "            os.makedirs(generated_level_folder)\n",
    "        write_file_contents(f\"{generated_level_folder}/level_{i}_{m}x{n}.txt\", generated_level)\n",
    "        print(f\"Generated level {i} with dimensions {m}x{n} for {train_mode}\")\n",
    "else:\n",
    "    print(f\"Fine-tuning job {fine_tuning_job_id} has not succeeded yet. Current status: {fine_tuning_status}\")"
   ],
   "id": "87c91c8fb3060792",
   "outputs": [
    {
     "name": "stdout",
     "output_type": "stream",
     "text": [
      "Generated level 0 with dimensions 8x30 for 10-input-5-epoch-0.5-temp-50-output\n",
      "Generated level 1 with dimensions 33x32 for 10-input-5-epoch-0.5-temp-50-output\n",
      "Generated level 2 with dimensions 21x21 for 10-input-5-epoch-0.5-temp-50-output\n",
      "Generated level 3 with dimensions 17x12 for 10-input-5-epoch-0.5-temp-50-output\n",
      "Generated level 4 with dimensions 24x29 for 10-input-5-epoch-0.5-temp-50-output\n",
      "Generated level 5 with dimensions 23x26 for 10-input-5-epoch-0.5-temp-50-output\n",
      "Generated level 6 with dimensions 30x11 for 10-input-5-epoch-0.5-temp-50-output\n",
      "Generated level 7 with dimensions 14x23 for 10-input-5-epoch-0.5-temp-50-output\n",
      "Generated level 8 with dimensions 13x21 for 10-input-5-epoch-0.5-temp-50-output\n",
      "Generated level 9 with dimensions 35x11 for 10-input-5-epoch-0.5-temp-50-output\n",
      "Generated level 10 with dimensions 33x24 for 10-input-5-epoch-0.5-temp-50-output\n",
      "Generated level 11 with dimensions 16x22 for 10-input-5-epoch-0.5-temp-50-output\n",
      "Generated level 12 with dimensions 23x12 for 10-input-5-epoch-0.5-temp-50-output\n",
      "Generated level 13 with dimensions 30x31 for 10-input-5-epoch-0.5-temp-50-output\n",
      "Generated level 14 with dimensions 16x34 for 10-input-5-epoch-0.5-temp-50-output\n",
      "Generated level 15 with dimensions 30x31 for 10-input-5-epoch-0.5-temp-50-output\n",
      "Generated level 16 with dimensions 35x12 for 10-input-5-epoch-0.5-temp-50-output\n",
      "Generated level 17 with dimensions 21x24 for 10-input-5-epoch-0.5-temp-50-output\n",
      "Generated level 18 with dimensions 24x34 for 10-input-5-epoch-0.5-temp-50-output\n",
      "Generated level 19 with dimensions 7x13 for 10-input-5-epoch-0.5-temp-50-output\n",
      "Generated level 20 with dimensions 19x23 for 10-input-5-epoch-0.5-temp-50-output\n",
      "Generated level 21 with dimensions 9x28 for 10-input-5-epoch-0.5-temp-50-output\n",
      "Generated level 22 with dimensions 11x14 for 10-input-5-epoch-0.5-temp-50-output\n",
      "Generated level 23 with dimensions 35x32 for 10-input-5-epoch-0.5-temp-50-output\n",
      "Generated level 24 with dimensions 9x23 for 10-input-5-epoch-0.5-temp-50-output\n",
      "Generated level 25 with dimensions 27x31 for 10-input-5-epoch-0.5-temp-50-output\n",
      "Generated level 26 with dimensions 26x15 for 10-input-5-epoch-0.5-temp-50-output\n",
      "Generated level 27 with dimensions 23x31 for 10-input-5-epoch-0.5-temp-50-output\n",
      "Generated level 28 with dimensions 27x16 for 10-input-5-epoch-0.5-temp-50-output\n",
      "Generated level 29 with dimensions 24x26 for 10-input-5-epoch-0.5-temp-50-output\n",
      "Generated level 30 with dimensions 16x31 for 10-input-5-epoch-0.5-temp-50-output\n",
      "Generated level 31 with dimensions 31x13 for 10-input-5-epoch-0.5-temp-50-output\n",
      "Generated level 32 with dimensions 25x28 for 10-input-5-epoch-0.5-temp-50-output\n",
      "Generated level 33 with dimensions 29x9 for 10-input-5-epoch-0.5-temp-50-output\n",
      "Generated level 34 with dimensions 31x34 for 10-input-5-epoch-0.5-temp-50-output\n",
      "Generated level 35 with dimensions 20x30 for 10-input-5-epoch-0.5-temp-50-output\n",
      "Generated level 36 with dimensions 7x8 for 10-input-5-epoch-0.5-temp-50-output\n",
      "Generated level 37 with dimensions 24x30 for 10-input-5-epoch-0.5-temp-50-output\n",
      "Generated level 38 with dimensions 19x22 for 10-input-5-epoch-0.5-temp-50-output\n",
      "Generated level 39 with dimensions 9x25 for 10-input-5-epoch-0.5-temp-50-output\n",
      "Generated level 40 with dimensions 17x21 for 10-input-5-epoch-0.5-temp-50-output\n",
      "Generated level 41 with dimensions 34x23 for 10-input-5-epoch-0.5-temp-50-output\n",
      "Generated level 42 with dimensions 9x16 for 10-input-5-epoch-0.5-temp-50-output\n",
      "Generated level 43 with dimensions 11x21 for 10-input-5-epoch-0.5-temp-50-output\n",
      "Generated level 44 with dimensions 11x20 for 10-input-5-epoch-0.5-temp-50-output\n",
      "Generated level 45 with dimensions 14x29 for 10-input-5-epoch-0.5-temp-50-output\n",
      "Generated level 46 with dimensions 23x8 for 10-input-5-epoch-0.5-temp-50-output\n",
      "Generated level 47 with dimensions 25x9 for 10-input-5-epoch-0.5-temp-50-output\n",
      "Generated level 48 with dimensions 8x26 for 10-input-5-epoch-0.5-temp-50-output\n",
      "Generated level 49 with dimensions 16x27 for 10-input-5-epoch-0.5-temp-50-output\n"
     ]
    }
   ],
   "execution_count": 24
  },
  {
   "metadata": {
    "ExecuteTime": {
     "end_time": "2024-06-09T18:47:30.598196Z",
     "start_time": "2024-06-09T18:47:30.591804Z"
    }
   },
   "cell_type": "code",
   "source": [
    "print(check_level_validity(read_level_from_txt(\"data/generated_levels/200-input-3-epoch-0.5-temp-50-output/level_0_8x12.txt\")))\n",
    "print(check_level_validity(read_level_from_txt(\"data/training_data/training-set-200-examples/Sasquatch_level_35.txt\")))"
   ],
   "id": "6f83ad0949bc61aa",
   "outputs": [
    {
     "name": "stdout",
     "output_type": "stream",
     "text": [
      "(False, 'The number of crates and storage locations should be equal.')\n",
      "None\n"
     ]
    }
   ],
   "execution_count": 3
  },
  {
   "metadata": {},
   "cell_type": "code",
   "outputs": [],
   "execution_count": null,
   "source": "",
   "id": "74e4e7e6c766a77"
  }
 ],
 "metadata": {
  "kernelspec": {
   "display_name": "Python 3",
   "language": "python",
   "name": "python3"
  },
  "language_info": {
   "codemirror_mode": {
    "name": "ipython",
    "version": 2
   },
   "file_extension": ".py",
   "mimetype": "text/x-python",
   "name": "python",
   "nbconvert_exporter": "python",
   "pygments_lexer": "ipython2",
   "version": "2.7.6"
  }
 },
 "nbformat": 4,
 "nbformat_minor": 5
}

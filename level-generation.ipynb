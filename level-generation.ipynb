{
 "cells": [
  {
   "metadata": {},
   "cell_type": "markdown",
   "source": "Import related libraries",
   "id": "cf7bc5b5b89caa75"
  },
  {
   "metadata": {},
   "cell_type": "code",
   "outputs": [],
   "execution_count": null,
   "source": [
    "import openai\n",
    "# sokoban_solver is a custom package that contains the A* agent that is able to solve Sokoban environment levels\n",
    "from src.utilities import *"
   ],
   "id": "5a95bd77bda58bde"
  },
  {
   "metadata": {},
   "cell_type": "markdown",
   "source": "You must add your own OpenAI API key to the `openai-api-key.txt` file.",
   "id": "24cc3d6e69b853f"
  },
  {
   "metadata": {},
   "cell_type": "code",
   "outputs": [],
   "execution_count": null,
   "source": "api_key = get_file_contents(\"openai-api-key.txt\")",
   "id": "1d499ba89790ff45"
  },
  {
   "metadata": {},
   "cell_type": "markdown",
   "source": "Initialize the OpenAI API Client with the API key",
   "id": "f9dd27be191bafa"
  },
  {
   "metadata": {},
   "cell_type": "code",
   "outputs": [],
   "execution_count": null,
   "source": "openai.api_key = api_key",
   "id": "f4ad8a45d0cc0de4"
  },
  {
   "metadata": {},
   "cell_type": "markdown",
   "source": "Set your training mode for the fine-tuning process, all files related to this mode will have the name of the mode in their names.",
   "id": "3f08dedf5e09d8bc"
  },
  {
   "metadata": {},
   "cell_type": "code",
   "outputs": [],
   "execution_count": null,
   "source": "train_mode = \"training-set-10-examples\"",
   "id": "da27656657abf5eb"
  },
  {
   "metadata": {},
   "cell_type": "markdown",
   "source": "Upload the training file to the API for fine-tuning purposes",
   "id": "879e101777d489a2"
  },
  {
   "metadata": {},
   "cell_type": "code",
   "outputs": [],
   "execution_count": null,
   "source": [
    "training_data_path = f\"data/training_data/{train_mode}.jsonl\"\n",
    "\n",
    "with open(training_data_path, \"r\") as file:\n",
    "    response = openai.File.create(file=file, purpose=\"fine-tune\")\n",
    "\n",
    "file_id = response[\"id\"]\n",
    "write_file_contents(f\"data/client_file_ids/{train_mode}.txt\", file_id)"
   ],
   "id": "initial_id"
  },
  {
   "metadata": {},
   "cell_type": "markdown",
   "source": "Set the model to fine-tune. gpt-3.5-turbo-0125 is the currently recommended model.",
   "id": "42ccbbf0ec55905c"
  },
  {
   "metadata": {},
   "cell_type": "code",
   "outputs": [],
   "execution_count": null,
   "source": "model = \"gpt-3.5-turbo-0125\"",
   "id": "9c6e0e76b914895e"
  },
  {
   "metadata": {},
   "cell_type": "markdown",
   "source": "Create a fine-tuning job for the model with the training file",
   "id": "546eeec4bb611878"
  },
  {
   "metadata": {},
   "cell_type": "code",
   "outputs": [],
   "execution_count": null,
   "source": [
    "training_file_id = get_file_contents(f\"data/client_file_ids/{train_mode}.txt\")\n",
    "\n",
    "response = openai.FineTune.create_job(model=model, training_file_id=training_file_id, suffix=train_mode)\n",
    "\n",
    "fine_tuning_job_id = response[\"id\"]\n",
    "write_file_contents(f\"data/fine_tuning_job_ids/{train_mode}.txt\", fine_tuning_job_id)"
   ],
   "id": "b281b242884cbd3a"
  }
 ],
 "metadata": {
  "kernelspec": {
   "display_name": "Python 3",
   "language": "python",
   "name": "python3"
  },
  "language_info": {
   "codemirror_mode": {
    "name": "ipython",
    "version": 2
   },
   "file_extension": ".py",
   "mimetype": "text/x-python",
   "name": "python",
   "nbconvert_exporter": "python",
   "pygments_lexer": "ipython2",
   "version": "2.7.6"
  }
 },
 "nbformat": 4,
 "nbformat_minor": 5
}

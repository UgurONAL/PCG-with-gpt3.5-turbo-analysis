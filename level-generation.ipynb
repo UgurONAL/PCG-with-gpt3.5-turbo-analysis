{
 "cells": [
  {
   "metadata": {},
   "cell_type": "markdown",
   "source": "Import related libraries",
   "id": "cf7bc5b5b89caa75"
  },
  {
   "metadata": {
    "ExecuteTime": {
     "end_time": "2024-06-09T11:10:33.140742Z",
     "start_time": "2024-06-09T11:10:32.638955Z"
    }
   },
   "cell_type": "code",
   "source": [
    "import os.path\n",
    "\n",
    "import openai\n",
    "# sokoban_solver is a custom package that contains the A* agent that is able to solve Sokoban environment levels\n",
    "from src.utilities import *\n",
    "import random"
   ],
   "id": "5a95bd77bda58bde",
   "outputs": [],
   "execution_count": 1
  },
  {
   "metadata": {},
   "cell_type": "markdown",
   "source": "You must add your own OpenAI API key to the `openai-api-key.txt` file.",
   "id": "24cc3d6e69b853f"
  },
  {
   "metadata": {
    "ExecuteTime": {
     "end_time": "2024-06-09T11:10:36.462929Z",
     "start_time": "2024-06-09T11:10:36.452021Z"
    }
   },
   "cell_type": "code",
   "source": "api_key = get_file_contents(\"openai-api-key.txt\")",
   "id": "1d499ba89790ff45",
   "outputs": [],
   "execution_count": 2
  },
  {
   "metadata": {},
   "cell_type": "markdown",
   "source": "Initialize the OpenAI API Client with the API key",
   "id": "f9dd27be191bafa"
  },
  {
   "metadata": {
    "ExecuteTime": {
     "end_time": "2024-06-09T11:10:38.282489Z",
     "start_time": "2024-06-09T11:10:38.279738Z"
    }
   },
   "cell_type": "code",
   "source": "openai.api_key = api_key",
   "id": "f4ad8a45d0cc0de4",
   "outputs": [],
   "execution_count": 3
  },
  {
   "metadata": {},
   "cell_type": "markdown",
   "source": "Set your training mode for the fine-tuning process, all files related to this mode will have the name of the mode in their names.",
   "id": "3f08dedf5e09d8bc"
  },
  {
   "metadata": {
    "ExecuteTime": {
     "end_time": "2024-06-09T11:14:44.961227Z",
     "start_time": "2024-06-09T11:14:44.958153Z"
    }
   },
   "cell_type": "code",
   "source": "train_mode = \"10-input-3-epoch-0.5-temp-50-output\"",
   "id": "da27656657abf5eb",
   "outputs": [],
   "execution_count": 20
  },
  {
   "metadata": {},
   "cell_type": "markdown",
   "source": "Get hyperparameters for the fine-tuning process",
   "id": "d2790e99853bec1"
  },
  {
   "metadata": {
    "ExecuteTime": {
     "end_time": "2024-06-09T11:14:47.642665Z",
     "start_time": "2024-06-09T11:14:47.631210Z"
    }
   },
   "cell_type": "code",
   "source": "hypers = read_hypers()",
   "id": "1cc45c32a6f5f79f",
   "outputs": [],
   "execution_count": 21
  },
  {
   "metadata": {
    "ExecuteTime": {
     "end_time": "2024-06-09T11:14:48.210769Z",
     "start_time": "2024-06-09T11:14:48.206729Z"
    }
   },
   "cell_type": "code",
   "source": "print(hypers)",
   "id": "70636827fc164bb2",
   "outputs": [
    {
     "name": "stdout",
     "output_type": "stream",
     "text": [
      "{'10-input-3-epoch-0.5-temp-50-output': {'training_set': 'training-set-10-examples', 'n_epochs': 3, 'temperature': 0.5, 'n_generation': 50}}\n"
     ]
    }
   ],
   "execution_count": 22
  },
  {
   "metadata": {},
   "cell_type": "markdown",
   "source": "Upload the training file to the API for fine-tuning purposes",
   "id": "879e101777d489a2"
  },
  {
   "metadata": {
    "ExecuteTime": {
     "end_time": "2024-06-09T11:14:55.888821Z",
     "start_time": "2024-06-09T11:14:55.861198Z"
    }
   },
   "cell_type": "code",
   "source": [
    "training_data_path = f\"data/training_data/{hypers[train_mode][\"training_set\"]}.jsonl\"\n",
    "\n",
    "with open(training_data_path, \"r\") as file:\n",
    "    response = openai.File.create(file=file, purpose=\"fine-tune\")\n",
    "\n",
    "file_id = response[\"id\"]\n",
    "write_file_contents(f\"data/client_file_ids/{train_mode}.txt\", file_id)"
   ],
   "id": "initial_id",
   "outputs": [
    {
     "ename": "FileNotFoundError",
     "evalue": "[Errno 2] No such file or directory: 'data/training_data/training-set-10-examples.jsonl'",
     "output_type": "error",
     "traceback": [
      "\u001B[0;31m---------------------------------------------------------------------------\u001B[0m",
      "\u001B[0;31mFileNotFoundError\u001B[0m                         Traceback (most recent call last)",
      "Cell \u001B[0;32mIn[23], line 3\u001B[0m\n\u001B[1;32m      1\u001B[0m training_data_path \u001B[38;5;241m=\u001B[39m \u001B[38;5;124mf\u001B[39m\u001B[38;5;124m\"\u001B[39m\u001B[38;5;124mdata/training_data/\u001B[39m\u001B[38;5;132;01m{\u001B[39;00mhypers[train_mode][\u001B[38;5;124m\"\u001B[39m\u001B[38;5;124mtraining_set\u001B[39m\u001B[38;5;124m\"\u001B[39m]\u001B[38;5;132;01m}\u001B[39;00m\u001B[38;5;124m.jsonl\u001B[39m\u001B[38;5;124m\"\u001B[39m\n\u001B[0;32m----> 3\u001B[0m \u001B[38;5;28;01mwith\u001B[39;00m \u001B[38;5;28;43mopen\u001B[39;49m\u001B[43m(\u001B[49m\u001B[43mtraining_data_path\u001B[49m\u001B[43m,\u001B[49m\u001B[43m \u001B[49m\u001B[38;5;124;43m\"\u001B[39;49m\u001B[38;5;124;43mr\u001B[39;49m\u001B[38;5;124;43m\"\u001B[39;49m\u001B[43m)\u001B[49m \u001B[38;5;28;01mas\u001B[39;00m file:\n\u001B[1;32m      4\u001B[0m     response \u001B[38;5;241m=\u001B[39m openai\u001B[38;5;241m.\u001B[39mFile\u001B[38;5;241m.\u001B[39mcreate(file\u001B[38;5;241m=\u001B[39mfile, purpose\u001B[38;5;241m=\u001B[39m\u001B[38;5;124m\"\u001B[39m\u001B[38;5;124mfine-tune\u001B[39m\u001B[38;5;124m\"\u001B[39m)\n\u001B[1;32m      6\u001B[0m file_id \u001B[38;5;241m=\u001B[39m response[\u001B[38;5;124m\"\u001B[39m\u001B[38;5;124mid\u001B[39m\u001B[38;5;124m\"\u001B[39m]\n",
      "File \u001B[0;32m~/Desktop/Academy/BLG 521E AI/Project/Code/PCG-with-gpt3.5-turbo-analysis/venv/lib/python3.12/site-packages/IPython/core/interactiveshell.py:324\u001B[0m, in \u001B[0;36m_modified_open\u001B[0;34m(file, *args, **kwargs)\u001B[0m\n\u001B[1;32m    317\u001B[0m \u001B[38;5;28;01mif\u001B[39;00m file \u001B[38;5;129;01min\u001B[39;00m {\u001B[38;5;241m0\u001B[39m, \u001B[38;5;241m1\u001B[39m, \u001B[38;5;241m2\u001B[39m}:\n\u001B[1;32m    318\u001B[0m     \u001B[38;5;28;01mraise\u001B[39;00m \u001B[38;5;167;01mValueError\u001B[39;00m(\n\u001B[1;32m    319\u001B[0m         \u001B[38;5;124mf\u001B[39m\u001B[38;5;124m\"\u001B[39m\u001B[38;5;124mIPython won\u001B[39m\u001B[38;5;124m'\u001B[39m\u001B[38;5;124mt let you open fd=\u001B[39m\u001B[38;5;132;01m{\u001B[39;00mfile\u001B[38;5;132;01m}\u001B[39;00m\u001B[38;5;124m by default \u001B[39m\u001B[38;5;124m\"\u001B[39m\n\u001B[1;32m    320\u001B[0m         \u001B[38;5;124m\"\u001B[39m\u001B[38;5;124mas it is likely to crash IPython. If you know what you are doing, \u001B[39m\u001B[38;5;124m\"\u001B[39m\n\u001B[1;32m    321\u001B[0m         \u001B[38;5;124m\"\u001B[39m\u001B[38;5;124myou can use builtins\u001B[39m\u001B[38;5;124m'\u001B[39m\u001B[38;5;124m open.\u001B[39m\u001B[38;5;124m\"\u001B[39m\n\u001B[1;32m    322\u001B[0m     )\n\u001B[0;32m--> 324\u001B[0m \u001B[38;5;28;01mreturn\u001B[39;00m \u001B[43mio_open\u001B[49m\u001B[43m(\u001B[49m\u001B[43mfile\u001B[49m\u001B[43m,\u001B[49m\u001B[43m \u001B[49m\u001B[38;5;241;43m*\u001B[39;49m\u001B[43margs\u001B[49m\u001B[43m,\u001B[49m\u001B[43m \u001B[49m\u001B[38;5;241;43m*\u001B[39;49m\u001B[38;5;241;43m*\u001B[39;49m\u001B[43mkwargs\u001B[49m\u001B[43m)\u001B[49m\n",
      "\u001B[0;31mFileNotFoundError\u001B[0m: [Errno 2] No such file or directory: 'data/training_data/training-set-10-examples.jsonl'"
     ]
    }
   ],
   "execution_count": 23
  },
  {
   "metadata": {},
   "cell_type": "markdown",
   "source": "Set the model to fine-tune. gpt-3.5-turbo-0125 is the currently recommended model.",
   "id": "42ccbbf0ec55905c"
  },
  {
   "metadata": {
    "ExecuteTime": {
     "end_time": "2024-06-09T11:15:00.470160Z",
     "start_time": "2024-06-09T11:15:00.466944Z"
    }
   },
   "cell_type": "code",
   "source": "model = \"gpt-3.5-turbo-0125\"",
   "id": "9c6e0e76b914895e",
   "outputs": [],
   "execution_count": 24
  },
  {
   "metadata": {},
   "cell_type": "markdown",
   "source": "Create a fine-tuning job for the model with the training file",
   "id": "546eeec4bb611878"
  },
  {
   "metadata": {
    "ExecuteTime": {
     "end_time": "2024-06-09T11:15:06.771217Z",
     "start_time": "2024-06-09T11:15:06.739017Z"
    }
   },
   "cell_type": "code",
   "source": [
    "training_file_id = get_file_contents(f\"data/client_file_ids/{train_mode}.txt\")\n",
    "\n",
    "response = openai.FineTune.create_job(\n",
    "    model=model,\n",
    "    training_file_id=training_file_id,\n",
    "    suffix=train_mode,\n",
    "    n_epochs=hypers[train_mode][\"n_epochs\"]\n",
    ")\n",
    "\n",
    "fine_tuning_job_id = response[\"id\"]\n",
    "write_file_contents(f\"data/fine_tuning_job_ids/{train_mode}.txt\", fine_tuning_job_id)"
   ],
   "id": "b281b242884cbd3a",
   "outputs": [
    {
     "ename": "FileNotFoundError",
     "evalue": "[Errno 2] No such file or directory: 'data/client_file_ids/10-input-3-epoch-0.5-temp-50-output.txt'",
     "output_type": "error",
     "traceback": [
      "\u001B[0;31m---------------------------------------------------------------------------\u001B[0m",
      "\u001B[0;31mFileNotFoundError\u001B[0m                         Traceback (most recent call last)",
      "Cell \u001B[0;32mIn[25], line 1\u001B[0m\n\u001B[0;32m----> 1\u001B[0m training_file_id \u001B[38;5;241m=\u001B[39m \u001B[43mget_file_contents\u001B[49m\u001B[43m(\u001B[49m\u001B[38;5;124;43mf\u001B[39;49m\u001B[38;5;124;43m\"\u001B[39;49m\u001B[38;5;124;43mdata/client_file_ids/\u001B[39;49m\u001B[38;5;132;43;01m{\u001B[39;49;00m\u001B[43mtrain_mode\u001B[49m\u001B[38;5;132;43;01m}\u001B[39;49;00m\u001B[38;5;124;43m.txt\u001B[39;49m\u001B[38;5;124;43m\"\u001B[39;49m\u001B[43m)\u001B[49m\n\u001B[1;32m      3\u001B[0m response \u001B[38;5;241m=\u001B[39m openai\u001B[38;5;241m.\u001B[39mFineTune\u001B[38;5;241m.\u001B[39mcreate_job(\n\u001B[1;32m      4\u001B[0m     model\u001B[38;5;241m=\u001B[39mmodel,\n\u001B[1;32m      5\u001B[0m     training_file_id\u001B[38;5;241m=\u001B[39mtraining_file_id,\n\u001B[1;32m      6\u001B[0m     suffix\u001B[38;5;241m=\u001B[39mtrain_mode,\n\u001B[1;32m      7\u001B[0m     n_epochs\u001B[38;5;241m=\u001B[39mhypers[train_mode][\u001B[38;5;124m\"\u001B[39m\u001B[38;5;124mn_epochs\u001B[39m\u001B[38;5;124m\"\u001B[39m]\n\u001B[1;32m      8\u001B[0m )\n\u001B[1;32m     10\u001B[0m fine_tuning_job_id \u001B[38;5;241m=\u001B[39m response[\u001B[38;5;124m\"\u001B[39m\u001B[38;5;124mid\u001B[39m\u001B[38;5;124m\"\u001B[39m]\n",
      "File \u001B[0;32m~/Desktop/Academy/BLG 521E AI/Project/Code/PCG-with-gpt3.5-turbo-analysis/src/utilities.py:11\u001B[0m, in \u001B[0;36mget_file_contents\u001B[0;34m(file_path)\u001B[0m\n\u001B[1;32m     10\u001B[0m \u001B[38;5;28;01mdef\u001B[39;00m \u001B[38;5;21mget_file_contents\u001B[39m(file_path):\n\u001B[0;32m---> 11\u001B[0m     \u001B[38;5;28;01mwith\u001B[39;00m \u001B[38;5;28;43mopen\u001B[39;49m\u001B[43m(\u001B[49m\u001B[43mfile_path\u001B[49m\u001B[43m,\u001B[49m\u001B[43m \u001B[49m\u001B[38;5;124;43m\"\u001B[39;49m\u001B[38;5;124;43mr\u001B[39;49m\u001B[38;5;124;43m\"\u001B[39;49m\u001B[43m,\u001B[49m\u001B[43m \u001B[49m\u001B[43mencoding\u001B[49m\u001B[38;5;241;43m=\u001B[39;49m\u001B[38;5;124;43m\"\u001B[39;49m\u001B[38;5;124;43mutf-8\u001B[39;49m\u001B[38;5;124;43m\"\u001B[39;49m\u001B[43m)\u001B[49m \u001B[38;5;28;01mas\u001B[39;00m file:\n\u001B[1;32m     12\u001B[0m         \u001B[38;5;28;01mreturn\u001B[39;00m file\u001B[38;5;241m.\u001B[39mread()\n",
      "\u001B[0;31mFileNotFoundError\u001B[0m: [Errno 2] No such file or directory: 'data/client_file_ids/10-input-3-epoch-0.5-temp-50-output.txt'"
     ]
    }
   ],
   "execution_count": 25
  },
  {
   "metadata": {},
   "cell_type": "markdown",
   "source": "Generate levels using the fine-tuned model",
   "id": "b4a16dade82d9ba5"
  },
  {
   "metadata": {},
   "cell_type": "code",
   "outputs": [],
   "execution_count": null,
   "source": [
    "fine_tuned_model = get_file_contents(f\"data/fine_tuning_job_ids/{train_mode}.txt\")\n",
    "\n",
    "for i in range(hypers[train_mode][\"n_generations\"]):\n",
    "    m = random.randint(7, 35)\n",
    "    n = random.randint(8, 35)\n",
    "    response = openai.Completion.create(\n",
    "        model=fine_tuned_model,\n",
    "        prompt=f\"Create a Sokoban level with a size of {m}x{n}.\",\n",
    "        n=1\n",
    "    )\n",
    "    generated_level = response.choices[0].text\n",
    "    if not os.path.exists(f\"data/generated_levels/{train_mode}\"):\n",
    "        os.makedirs(f\"data/generated_levels/{train_mode}\")\n",
    "    write_file_contents(f\"data/generated_levels/{train_mode}/level_{i}_{m}x{n}.txt\", generated_level)"
   ],
   "id": "87c91c8fb3060792"
  }
 ],
 "metadata": {
  "kernelspec": {
   "display_name": "Python 3",
   "language": "python",
   "name": "python3"
  },
  "language_info": {
   "codemirror_mode": {
    "name": "ipython",
    "version": 2
   },
   "file_extension": ".py",
   "mimetype": "text/x-python",
   "name": "python",
   "nbconvert_exporter": "python",
   "pygments_lexer": "ipython2",
   "version": "2.7.6"
  }
 },
 "nbformat": 4,
 "nbformat_minor": 5
}
